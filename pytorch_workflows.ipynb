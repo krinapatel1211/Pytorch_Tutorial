{
  "nbformat": 4,
  "nbformat_minor": 0,
  "metadata": {
    "colab": {
      "provenance": [],
      "authorship_tag": "ABX9TyN1B0XZbyNQ9OVURHCeXsh2",
      "include_colab_link": true
    },
    "kernelspec": {
      "name": "python3",
      "display_name": "Python 3"
    },
    "language_info": {
      "name": "python"
    }
  },
  "cells": [
    {
      "cell_type": "markdown",
      "metadata": {
        "id": "view-in-github",
        "colab_type": "text"
      },
      "source": [
        "<a href=\"https://colab.research.google.com/github/krinapatel1211/Pytorch_Tutorial/blob/main/pytorch_workflows.ipynb\" target=\"_parent\"><img src=\"https://colab.research.google.com/assets/colab-badge.svg\" alt=\"Open In Colab\"/></a>"
      ]
    },
    {
      "cell_type": "code",
      "execution_count": 67,
      "metadata": {
        "colab": {
          "base_uri": "https://localhost:8080/",
          "height": 36
        },
        "id": "MwrizQ1G9N_q",
        "outputId": "f07c0f35-9ace-4b94-8045-ff49db5d8ba1"
      },
      "outputs": [
        {
          "output_type": "execute_result",
          "data": {
            "text/plain": [
              "'2.1.0+cu121'"
            ],
            "application/vnd.google.colaboratory.intrinsic+json": {
              "type": "string"
            }
          },
          "metadata": {},
          "execution_count": 67
        }
      ],
      "source": [
        "import torch\n",
        "from torch import nn # all pytorh building blocks of neural network\n",
        "import matplotlib.pyplot as plt\n",
        "\n",
        "torch.__version__"
      ]
    },
    {
      "cell_type": "code",
      "source": [
        "weight = 0.9\n",
        "bias = 0.5\n",
        "\n",
        "start = 0\n",
        "end = 1\n",
        "step = 0.02\n",
        "\n",
        "X = torch.arange(start, end, step).unsqueeze(dim=1)\n",
        "y = weight * X + bias\n",
        "\n",
        "X[:10], y[:10]\n"
      ],
      "metadata": {
        "colab": {
          "base_uri": "https://localhost:8080/"
        },
        "id": "v1vl4jmH_pHi",
        "outputId": "ca4c1adf-431b-4891-d062-10288dec673c"
      },
      "execution_count": 68,
      "outputs": [
        {
          "output_type": "execute_result",
          "data": {
            "text/plain": [
              "(tensor([[0.0000],\n",
              "         [0.0200],\n",
              "         [0.0400],\n",
              "         [0.0600],\n",
              "         [0.0800],\n",
              "         [0.1000],\n",
              "         [0.1200],\n",
              "         [0.1400],\n",
              "         [0.1600],\n",
              "         [0.1800]]),\n",
              " tensor([[0.5000],\n",
              "         [0.5180],\n",
              "         [0.5360],\n",
              "         [0.5540],\n",
              "         [0.5720],\n",
              "         [0.5900],\n",
              "         [0.6080],\n",
              "         [0.6260],\n",
              "         [0.6440],\n",
              "         [0.6620]]))"
            ]
          },
          "metadata": {},
          "execution_count": 68
        }
      ]
    },
    {
      "cell_type": "code",
      "source": [
        "X.shape, y.shape"
      ],
      "metadata": {
        "colab": {
          "base_uri": "https://localhost:8080/"
        },
        "id": "YsJzylVqCbrt",
        "outputId": "d9ae045e-b5dc-493a-ed9e-4103bfc76e35"
      },
      "execution_count": 69,
      "outputs": [
        {
          "output_type": "execute_result",
          "data": {
            "text/plain": [
              "(torch.Size([50, 1]), torch.Size([50, 1]))"
            ]
          },
          "metadata": {},
          "execution_count": 69
        }
      ]
    },
    {
      "cell_type": "code",
      "source": [
        "train_split = int(0.8*len(X))\n",
        "X_train, y_train = X[:train_split], y[:train_split]\n",
        "X_test, y_test = X[train_split:], y[train_split:]\n",
        "\n",
        "len(X_train), len(y_train), len(X_test), len(y_test)"
      ],
      "metadata": {
        "colab": {
          "base_uri": "https://localhost:8080/"
        },
        "id": "Zniva8bFCjo1",
        "outputId": "1d9d23f8-e2d6-42f9-9e04-022482626c8d"
      },
      "execution_count": 70,
      "outputs": [
        {
          "output_type": "execute_result",
          "data": {
            "text/plain": [
              "(40, 40, 10, 10)"
            ]
          },
          "metadata": {},
          "execution_count": 70
        }
      ]
    },
    {
      "cell_type": "code",
      "source": [
        "X_train"
      ],
      "metadata": {
        "id": "58Xqq9RoEa0T",
        "colab": {
          "base_uri": "https://localhost:8080/"
        },
        "outputId": "165e6a1c-e74a-4706-d99e-92b8cee80c85"
      },
      "execution_count": 71,
      "outputs": [
        {
          "output_type": "execute_result",
          "data": {
            "text/plain": [
              "tensor([[0.0000],\n",
              "        [0.0200],\n",
              "        [0.0400],\n",
              "        [0.0600],\n",
              "        [0.0800],\n",
              "        [0.1000],\n",
              "        [0.1200],\n",
              "        [0.1400],\n",
              "        [0.1600],\n",
              "        [0.1800],\n",
              "        [0.2000],\n",
              "        [0.2200],\n",
              "        [0.2400],\n",
              "        [0.2600],\n",
              "        [0.2800],\n",
              "        [0.3000],\n",
              "        [0.3200],\n",
              "        [0.3400],\n",
              "        [0.3600],\n",
              "        [0.3800],\n",
              "        [0.4000],\n",
              "        [0.4200],\n",
              "        [0.4400],\n",
              "        [0.4600],\n",
              "        [0.4800],\n",
              "        [0.5000],\n",
              "        [0.5200],\n",
              "        [0.5400],\n",
              "        [0.5600],\n",
              "        [0.5800],\n",
              "        [0.6000],\n",
              "        [0.6200],\n",
              "        [0.6400],\n",
              "        [0.6600],\n",
              "        [0.6800],\n",
              "        [0.7000],\n",
              "        [0.7200],\n",
              "        [0.7400],\n",
              "        [0.7600],\n",
              "        [0.7800]])"
            ]
          },
          "metadata": {},
          "execution_count": 71
        }
      ]
    },
    {
      "cell_type": "code",
      "source": [
        "def plot_predictions(train_data=X_train,\n",
        "                     train_label=y_train,\n",
        "                     test_data=X_test,\n",
        "                     test_label=y_test,\n",
        "                     predictions=None):\n",
        "\n",
        "    plt.figure(figsize=(7,4))\n",
        "    plt.scatter(train_data, train_label, c=\"b\", s=4, label=\"Training data\")\n",
        "    plt.scatter(test_data, test_label, c=\"g\", s=4, label=\"Testing data\")\n",
        "\n",
        "    if predictions is not None:\n",
        "      plt.scatter(test_data, predictions, c=\"r\", s=4, label='Predictions')\n",
        "    plt.legend(prop={\"size\":14})\n"
      ],
      "metadata": {
        "id": "hRZOlqQiEj9T"
      },
      "execution_count": 72,
      "outputs": []
    },
    {
      "cell_type": "code",
      "source": [
        "\n",
        "class LinearRegressionModel(nn.Module): # <- almost everything in PyTorch is a nn.Module (think of this as neural network lego blocks)\n",
        "    def __init__(self):\n",
        "        super().__init__()\n",
        "        self.weights = nn.Parameter(torch.randn(1, # <- start with random weights (this will get adjusted as the model learns)\n",
        "                                                dtype=torch.float), # <- PyTorch loves float32 by default\n",
        "                                   requires_grad=True) # <- can we update this value with gradient descent?)\n",
        "\n",
        "        self.bias = nn.Parameter(torch.randn(1, # <- start with random bias (this will get adjusted as the model learns)\n",
        "                                            dtype=torch.float), # <- PyTorch loves float32 by default\n",
        "                                requires_grad=True) # <- can we update this value with gradient descent?))\n",
        "\n",
        "    # Forward defines the computation in the model\n",
        "    def forward(self, x: torch.Tensor) -> torch.Tensor: # <- \"x\" is the input data (e.g. training/testing features)\n",
        "        return self.weights * x + self.bias # <- this is the linear regression formula (y = m*x + b)"
      ],
      "metadata": {
        "id": "_2ZFtlAXFR1b"
      },
      "execution_count": 73,
      "outputs": []
    },
    {
      "cell_type": "code",
      "source": [
        "## checking the contents of our Model\n",
        "\n",
        "RANDOM_SEED = 42\n",
        "torch.manual_seed(seed=RANDOM_SEED)\n",
        "\n",
        "model_0 = LinearRegressionModel()\n",
        "list(model_0.parameters())"
      ],
      "metadata": {
        "colab": {
          "base_uri": "https://localhost:8080/"
        },
        "id": "9EfS-LxH5sQT",
        "outputId": "cd012bb1-1c69-419f-e9a5-eded4c3c231f"
      },
      "execution_count": 74,
      "outputs": [
        {
          "output_type": "execute_result",
          "data": {
            "text/plain": [
              "[Parameter containing:\n",
              " tensor([0.3367], requires_grad=True),\n",
              " Parameter containing:\n",
              " tensor([0.1288], requires_grad=True)]"
            ]
          },
          "metadata": {},
          "execution_count": 74
        }
      ]
    },
    {
      "cell_type": "code",
      "source": [
        "# List named parameters\n",
        "model_0.state_dict()"
      ],
      "metadata": {
        "colab": {
          "base_uri": "https://localhost:8080/"
        },
        "id": "9CIwLNfn_gVA",
        "outputId": "cc864944-3965-4100-92bc-9300d6ffdecc"
      },
      "execution_count": 75,
      "outputs": [
        {
          "output_type": "execute_result",
          "data": {
            "text/plain": [
              "OrderedDict([('weights', tensor([0.3367])), ('bias', tensor([0.1288]))])"
            ]
          },
          "metadata": {},
          "execution_count": 75
        }
      ]
    },
    {
      "cell_type": "code",
      "source": [
        "weight, bias"
      ],
      "metadata": {
        "colab": {
          "base_uri": "https://localhost:8080/"
        },
        "id": "2IiuwWN6AVnY",
        "outputId": "232635d8-4cd1-4eec-c8ee-955e4674389f"
      },
      "execution_count": 76,
      "outputs": [
        {
          "output_type": "execute_result",
          "data": {
            "text/plain": [
              "(0.9, 0.5)"
            ]
          },
          "metadata": {},
          "execution_count": 76
        }
      ]
    },
    {
      "cell_type": "code",
      "source": [
        "## Making Predictions using `torch.inference_mode()\n",
        "\n",
        "with torch.inference_mode():\n",
        "    y_preds = model_0(X_test)\n",
        "\n",
        "# Note: in older PyTorch code you might also see torch.no_grad()\n",
        "# with torch.no_grad():\n",
        "#   y_preds = model_0(X_test)"
      ],
      "metadata": {
        "id": "A3qik8NTAdLf"
      },
      "execution_count": 77,
      "outputs": []
    },
    {
      "cell_type": "code",
      "source": [
        "plot_predictions(predictions=y_preds)"
      ],
      "metadata": {
        "id": "WENqCnMLA5F3",
        "colab": {
          "base_uri": "https://localhost:8080/",
          "height": 368
        },
        "outputId": "d3f23c0f-c821-41b4-db67-a8e4e031fcda"
      },
      "execution_count": 78,
      "outputs": [
        {
          "output_type": "display_data",
          "data": {
            "text/plain": [
              "<Figure size 700x400 with 1 Axes>"
            ],
            "image/png": "[encoded data removed]"
          },
          "metadata": {}
        }
      ]
    },
    {
      "cell_type": "code",
      "source": [
        "# Train Model\n",
        "\n",
        "list(model_0.parameters())"
      ],
      "metadata": {
        "id": "aOBOayUQ07iY",
        "colab": {
          "base_uri": "https://localhost:8080/"
        },
        "outputId": "e52b9fab-29f5-44ee-8ad3-850aee357333"
      },
      "execution_count": 79,
      "outputs": [
        {
          "output_type": "execute_result",
          "data": {
            "text/plain": [
              "[Parameter containing:\n",
              " tensor([0.3367], requires_grad=True),\n",
              " Parameter containing:\n",
              " tensor([0.1288], requires_grad=True)]"
            ]
          },
          "metadata": {},
          "execution_count": 79
        }
      ]
    },
    {
      "cell_type": "code",
      "source": [
        "model_0.state_dict()"
      ],
      "metadata": {
        "colab": {
          "base_uri": "https://localhost:8080/"
        },
        "id": "3THyYoePI7BQ",
        "outputId": "654629b3-669c-4dbb-ab35-117c5c9b7fd1"
      },
      "execution_count": 80,
      "outputs": [
        {
          "output_type": "execute_result",
          "data": {
            "text/plain": [
              "OrderedDict([('weights', tensor([0.3367])), ('bias', tensor([0.1288]))])"
            ]
          },
          "metadata": {},
          "execution_count": 80
        }
      ]
    },
    {
      "cell_type": "code",
      "source": [
        "loss_fn = nn.L1Loss()\n",
        "\n",
        "optimizer = torch.optim.SGD(params=model_0.parameters(),\n",
        "                            lr=0.01)"
      ],
      "metadata": {
        "id": "fUaG3QWpJOu0"
      },
      "execution_count": 81,
      "outputs": []
    },
    {
      "cell_type": "code",
      "source": [
        "with torch.inference_mode():\n",
        "    list(model_0.parameters())"
      ],
      "metadata": {
        "id": "Cn1h2zJorQlH"
      },
      "execution_count": 82,
      "outputs": []
    },
    {
      "cell_type": "code",
      "source": [
        "epochs = 150\n",
        "epoch_count = []\n",
        "loss_count = []\n",
        "test_loss_count = []\n",
        "\n",
        "# 0. Loop through the data\n",
        "for epoch in range(epochs):\n",
        "    # set all parameters that requires gradient\n",
        "    model_0.train()\n",
        "    # 1. Forward pass\n",
        "    y_pred = model_0(X_train)\n",
        "\n",
        "    # 2. Calculate the  loss\n",
        "    loss = loss_fn(y_pred, y_train)\n",
        "\n",
        "    # 3. Optimizer zero-grad\n",
        "    optimizer.zero_grad()\n",
        "\n",
        "    # 4. perform backpropogation\n",
        "    loss.backward()\n",
        "\n",
        "    # 5. perform gradient descrent (step the optimizer)\n",
        "    optimizer.step()\n",
        "\n",
        "    model_0.eval() # turns off gradient descent and diferentsettings not needed for evaluations\n",
        "    with torch.inference_mode():\n",
        "        test_pred = model_0(X_test)\n",
        "\n",
        "        test_loss = loss_fn(test_pred, y_test)\n",
        "\n",
        "    if epoch%20 == 0:\n",
        "        epoch_count.append(epoch)\n",
        "        loss_count.append(loss)\n",
        "        test_loss_count.append(test_loss)\n",
        "\n",
        "\n",
        "\n",
        "\n",
        "\n",
        "\n",
        "        print(f\"Epoch: {epoch} | Loss: {loss} | Test Loss: {test_loss}\")\n",
        "\n"
      ],
      "metadata": {
        "colab": {
          "base_uri": "https://localhost:8080/"
        },
        "id": "wrtTPt2pq38f",
        "outputId": "829e56e0-cb7e-4c4a-fa91-85b3cf955871"
      },
      "execution_count": 83,
      "outputs": [
        {
          "output_type": "stream",
          "name": "stdout",
          "text": [
            "Epoch: 0 | Loss: 0.59088134765625 | Test Loss: 0.8590651750564575\n",
            "Epoch: 20 | Loss: 0.36046138405799866 | Test Loss: 0.5896453261375427\n",
            "Epoch: 40 | Loss: 0.13537496328353882 | Test Loss: 0.3248145878314972\n",
            "Epoch: 60 | Loss: 0.06989312916994095 | Test Loss: 0.18714836239814758\n",
            "Epoch: 80 | Loss: 0.060011692345142365 | Test Loss: 0.14494657516479492\n",
            "Epoch: 100 | Loss: 0.05303166061639786 | Test Loss: 0.12290702760219574\n",
            "Epoch: 120 | Loss: 0.04616682603955269 | Test Loss: 0.10704914480447769\n",
            "Epoch: 140 | Loss: 0.039301007986068726 | Test Loss: 0.09119126945734024\n"
          ]
        }
      ]
    },
    {
      "cell_type": "code",
      "source": [
        "model_0.state_dict()"
      ],
      "metadata": {
        "colab": {
          "base_uri": "https://localhost:8080/"
        },
        "id": "E8Vjzo5uNdeY",
        "outputId": "70ad5068-fdfb-4733-fb48-8373360977d5"
      },
      "execution_count": 84,
      "outputs": [
        {
          "output_type": "execute_result",
          "data": {
            "text/plain": [
              "OrderedDict([('weights', tensor([0.7215])), ('bias', tensor([0.5748]))])"
            ]
          },
          "metadata": {},
          "execution_count": 84
        }
      ]
    },
    {
      "cell_type": "code",
      "source": [
        "with torch.inference_mode():\n",
        "    y_preds_new = model_0(X_test)"
      ],
      "metadata": {
        "id": "mSQIDGqINkwL"
      },
      "execution_count": 85,
      "outputs": []
    },
    {
      "cell_type": "code",
      "source": [
        "plot_predictions(predictions=y_preds_new)"
      ],
      "metadata": {
        "colab": {
          "base_uri": "https://localhost:8080/",
          "height": 368
        },
        "id": "--5mef-cOYGr",
        "outputId": "2f592a3a-4323-4d6d-abb8-45d4e9da6da9"
      },
      "execution_count": 86,
      "outputs": [
        {
          "output_type": "display_data",
          "data": {
            "text/plain": [
              "<Figure size 700x400 with 1 Axes>"
            ],
            "image/png": "[encoded data removed]"
          },
          "metadata": {}
        }
      ]
    },
    {
      "cell_type": "code",
      "source": [],
      "metadata": {
        "id": "dzWDa7lZdD1C"
      },
      "execution_count": 86,
      "outputs": []
    },
    {
      "cell_type": "code",
      "source": [
        "import numpy as np\n",
        "plt.plot(epoch_count, np.array(torch.tensor(loss_count).numpy()), label=\"Train data\")\n",
        "plt.plot(epoch_count, np.array(torch.tensor(test_loss_count).numpy()), label=\"Test data\")\n",
        "plt.legend()\n",
        "\n"
      ],
      "metadata": {
        "id": "CW8bYTJjOhG4",
        "colab": {
          "base_uri": "https://localhost:8080/",
          "height": 447
        },
        "outputId": "b516591f-a985-49db-8b51-954fb9c385f5"
      },
      "execution_count": 87,
      "outputs": [
        {
          "output_type": "execute_result",
          "data": {
            "text/plain": [
              "<matplotlib.legend.Legend at 0x7e90f1180c40>"
            ]
          },
          "metadata": {},
          "execution_count": 87
        },
        {
          "output_type": "display_data",
          "data": {
            "text/plain": [
              "<Figure size 640x480 with 1 Axes>"
            ],
            "image/png": "[encoded data removed]"
          },
          "metadata": {}
        }
      ]
    },
    {
      "cell_type": "code",
      "source": [],
      "metadata": {
        "id": "ubhguDyfeAqy"
      },
      "execution_count": 87,
      "outputs": []
    },
    {
      "cell_type": "markdown",
      "source": [
        "### Save a model in PyTorch\n",
        "\n"
      ],
      "metadata": {
        "id": "49z62MvHec8O"
      }
    },
    {
      "cell_type": "code",
      "source": [
        "# Method 1. troch.save()\n",
        "\n",
        "from pathlib import Path\n",
        "\n",
        "# 1. Create model directory\n",
        "MODEL_PATH = Path(\"models\")\n",
        "MODEL_PATH.mkdir(parents=True, exist_ok=True)\n",
        "\n",
        "# 2. Create model save path\n",
        "MODEL_NAME = '01_pytorch_workflow_model_0.pth'\n",
        "MODEL_SAVE_PATH = MODEL_PATH / MODEL_NAME\n",
        "\n",
        "# 3. save the model\n",
        "torch.save(obj=model_0.state_dict(),\n",
        "           f=MODEL_SAVE_PATH)"
      ],
      "metadata": {
        "id": "cM3u2JRCeAuQ"
      },
      "execution_count": 88,
      "outputs": []
    },
    {
      "cell_type": "markdown",
      "source": [
        "### Loading saved Model"
      ],
      "metadata": {
        "id": "1WqMaYuDijRn"
      }
    },
    {
      "cell_type": "code",
      "source": [
        "## loading a PYtorch model\n",
        "\n",
        "loaded_model_0 = LinearRegressionModel()\n",
        "\n",
        "loaded_model_0.load_state_dict(torch.load(f=MODEL_SAVE_PATH))"
      ],
      "metadata": {
        "colab": {
          "base_uri": "https://localhost:8080/"
        },
        "id": "UnaQ269ahNDN",
        "outputId": "7d8fd3da-dc66-425b-83f4-4581940b2290"
      },
      "execution_count": 89,
      "outputs": [
        {
          "output_type": "execute_result",
          "data": {
            "text/plain": [
              "<All keys matched successfully>"
            ]
          },
          "metadata": {},
          "execution_count": 89
        }
      ]
    },
    {
      "cell_type": "code",
      "source": [
        "loaded_model_0.state_dict()"
      ],
      "metadata": {
        "colab": {
          "base_uri": "https://localhost:8080/"
        },
        "id": "JY3IuQZEhNGU",
        "outputId": "1cd80d27-b4f3-450b-f480-07cd00419981"
      },
      "execution_count": 90,
      "outputs": [
        {
          "output_type": "execute_result",
          "data": {
            "text/plain": [
              "OrderedDict([('weights', tensor([0.7215])), ('bias', tensor([0.5748]))])"
            ]
          },
          "metadata": {},
          "execution_count": 90
        }
      ]
    },
    {
      "cell_type": "code",
      "source": [
        "loaded_model_0.eval()\n",
        "\n",
        "with torch.inference_mode():\n",
        "    loaded_model_preds = loaded_model_0(X_test)\n",
        "\n",
        "loaded_model_preds"
      ],
      "metadata": {
        "colab": {
          "base_uri": "https://localhost:8080/"
        },
        "id": "YFmTGFswhNI4",
        "outputId": "5b2174a2-6d8f-47fe-dd5c-b0887ad4db06"
      },
      "execution_count": 91,
      "outputs": [
        {
          "output_type": "execute_result",
          "data": {
            "text/plain": [
              "tensor([[1.1520],\n",
              "        [1.1665],\n",
              "        [1.1809],\n",
              "        [1.1953],\n",
              "        [1.2098],\n",
              "        [1.2242],\n",
              "        [1.2386],\n",
              "        [1.2531],\n",
              "        [1.2675],\n",
              "        [1.2819]])"
            ]
          },
          "metadata": {},
          "execution_count": 91
        }
      ]
    },
    {
      "cell_type": "code",
      "source": [
        "y_preds_new"
      ],
      "metadata": {
        "colab": {
          "base_uri": "https://localhost:8080/"
        },
        "id": "AnDOFUnLhNL0",
        "outputId": "1ff6fac7-1ddc-4fe8-9d55-c45f926488ef"
      },
      "execution_count": 92,
      "outputs": [
        {
          "output_type": "execute_result",
          "data": {
            "text/plain": [
              "tensor([[1.1520],\n",
              "        [1.1665],\n",
              "        [1.1809],\n",
              "        [1.1953],\n",
              "        [1.2098],\n",
              "        [1.2242],\n",
              "        [1.2386],\n",
              "        [1.2531],\n",
              "        [1.2675],\n",
              "        [1.2819]])"
            ]
          },
          "metadata": {},
          "execution_count": 92
        }
      ]
    },
    {
      "cell_type": "code",
      "source": [
        "import torch\n",
        "from torch import nn\n",
        "import matplotlib.pyplot as plt\n",
        "\n",
        "\n",
        "torch.__version__\n",
        "\n"
      ],
      "metadata": {
        "colab": {
          "base_uri": "https://localhost:8080/",
          "height": 36
        },
        "id": "n9MWW9dShNOv",
        "outputId": "4455337f-0a37-4dc3-aa15-04ed9a60fd81"
      },
      "execution_count": 181,
      "outputs": [
        {
          "output_type": "execute_result",
          "data": {
            "text/plain": [
              "'2.1.0+cu121'"
            ],
            "application/vnd.google.colaboratory.intrinsic+json": {
              "type": "string"
            }
          },
          "metadata": {},
          "execution_count": 181
        }
      ]
    },
    {
      "cell_type": "code",
      "source": [
        "device = 'cuda' if torch.cuda.is_available() else \"cpu\"\n",
        "device\n"
      ],
      "metadata": {
        "colab": {
          "base_uri": "https://localhost:8080/",
          "height": 36
        },
        "id": "9s35iqVPhNRS",
        "outputId": "09d6a752-587c-47e9-9bc3-f1482e722f09"
      },
      "execution_count": 182,
      "outputs": [
        {
          "output_type": "execute_result",
          "data": {
            "text/plain": [
              "'cpu'"
            ],
            "application/vnd.google.colaboratory.intrinsic+json": {
              "type": "string"
            }
          },
          "metadata": {},
          "execution_count": 182
        }
      ]
    },
    {
      "cell_type": "code",
      "source": [
        "weight = 0.7\n",
        "bias = 0.3\n",
        "\n",
        "start = 0\n",
        "end = 1\n",
        "step = 0.02\n",
        "\n",
        "X = torch.arange(start, end, step).unsqueeze(dim=1)\n",
        "y = weight*X + bias\n",
        "\n",
        "X[:10], y[:10]"
      ],
      "metadata": {
        "colab": {
          "base_uri": "https://localhost:8080/"
        },
        "id": "6wspckB7hNUN",
        "outputId": "3486946e-60ad-449c-9caf-283e6f31529a"
      },
      "execution_count": 183,
      "outputs": [
        {
          "output_type": "execute_result",
          "data": {
            "text/plain": [
              "(tensor([[0.0000],\n",
              "         [0.0200],\n",
              "         [0.0400],\n",
              "         [0.0600],\n",
              "         [0.0800],\n",
              "         [0.1000],\n",
              "         [0.1200],\n",
              "         [0.1400],\n",
              "         [0.1600],\n",
              "         [0.1800]]),\n",
              " tensor([[0.3000],\n",
              "         [0.3140],\n",
              "         [0.3280],\n",
              "         [0.3420],\n",
              "         [0.3560],\n",
              "         [0.3700],\n",
              "         [0.3840],\n",
              "         [0.3980],\n",
              "         [0.4120],\n",
              "         [0.4260]]))"
            ]
          },
          "metadata": {},
          "execution_count": 183
        }
      ]
    },
    {
      "cell_type": "code",
      "source": [
        "train_split = int(0.8\n",
        "                  *len(X))\n",
        "X_train, y_train = X[:train_split], y[:train_split]\n",
        "X_test, y_test = X[train_split:], y[train_split:]\n"
      ],
      "metadata": {
        "id": "to6b5v7nhNXR"
      },
      "execution_count": 184,
      "outputs": []
    },
    {
      "cell_type": "code",
      "source": [
        "plot_predictions(X_train, y_train, X_test, y_test)"
      ],
      "metadata": {
        "colab": {
          "base_uri": "https://localhost:8080/",
          "height": 368
        },
        "id": "k_-HqTv-hNan",
        "outputId": "36b75081-c6db-4b44-b068-ec84854698dc"
      },
      "execution_count": 185,
      "outputs": [
        {
          "output_type": "display_data",
          "data": {
            "text/plain": [
              "<Figure size 700x400 with 1 Axes>"
            ],
            "image/png": "[encoded data removed]"
          },
          "metadata": {}
        }
      ]
    },
    {
      "cell_type": "code",
      "source": [
        "class LinearRegressionModelV2(nn.Module):\n",
        "    def __init__(self):\n",
        "        super().__init__()\n",
        "        self.linear_layer = nn.Linear(in_features=1,\n",
        "                                      out_features=1)\n",
        "\n",
        "    def forward(self, x: torch.Tensor) -> torch.Tensor:\n",
        "        return self.linear_layer(x)\n",
        "\n",
        "\n",
        "torch.manual_seed(42)\n",
        "model_1 = LinearRegressionModelV2()\n",
        "model_1, model_1.state_dict()\n",
        "\n",
        "\n"
      ],
      "metadata": {
        "colab": {
          "base_uri": "https://localhost:8080/"
        },
        "id": "YYO-XGm-hNdq",
        "outputId": "7120d0d9-40ad-4b8f-9c40-e73cae5f2be3"
      },
      "execution_count": 186,
      "outputs": [
        {
          "output_type": "execute_result",
          "data": {
            "text/plain": [
              "(LinearRegressionModelV2(\n",
              "   (linear_layer): Linear(in_features=1, out_features=1, bias=True)\n",
              " ),\n",
              " OrderedDict([('linear_layer.weight', tensor([[0.7645]])),\n",
              "              ('linear_layer.bias', tensor([0.8300]))]))"
            ]
          },
          "metadata": {},
          "execution_count": 186
        }
      ]
    },
    {
      "cell_type": "code",
      "source": [
        "next(model_1.parameters()).device\n"
      ],
      "metadata": {
        "colab": {
          "base_uri": "https://localhost:8080/"
        },
        "id": "BNHvnlzDqYoU",
        "outputId": "7b536df1-0f97-4aed-9909-8e7118ca76ce"
      },
      "execution_count": 187,
      "outputs": [
        {
          "output_type": "execute_result",
          "data": {
            "text/plain": [
              "device(type='cpu')"
            ]
          },
          "metadata": {},
          "execution_count": 187
        }
      ]
    },
    {
      "cell_type": "code",
      "source": [
        "loss_fn = nn.L1Loss()\n",
        "\n",
        "optimizer = torch.optim.SGD(params=model_1.parameters(),\n",
        "                            lr=0.001)\n",
        "\n",
        "\n"
      ],
      "metadata": {
        "id": "F9k-yqIlqYrM"
      },
      "execution_count": 188,
      "outputs": []
    },
    {
      "cell_type": "code",
      "source": [
        "torch.manual_seed(42)\n",
        "\n",
        "epochs=300\n",
        "\n",
        "X_train = X_train.to(device)\n",
        "X_test = X_test.to(device)\n",
        "y_train = y_train.to(device)\n",
        "\n",
        "\n",
        "for epoch in range(epochs):\n",
        "    model_1.train()\n",
        "\n",
        "    y_pred = model_1(X_train)\n",
        "\n",
        "    loss = loss_fn(y_pred, y_train)\n",
        "\n",
        "    optimizer.zero_grad()\n",
        "\n",
        "    loss.backward()\n",
        "\n",
        "    optimizer.step()\n",
        "\n",
        "    model_1.eval()\n",
        "    with torch.inference_mode():\n",
        "        test_pred = model_1(X_test)\n",
        "\n",
        "        test_loss = loss_fn(test_pred, y_test)\n",
        "\n",
        "    if epoch%10 == 0:\n",
        "        print(f\"Epochs: {epoch}, Loss: {loss}, Test loss: {test_loss}\")\n",
        "\n"
      ],
      "metadata": {
        "colab": {
          "base_uri": "https://localhost:8080/"
        },
        "id": "QF_M2rrmqYt_",
        "outputId": "315561f9-c12a-4a53-c957-6dbbf2cb07b2"
      },
      "execution_count": 189,
      "outputs": [
        {
          "output_type": "stream",
          "name": "stdout",
          "text": [
            "Epochs: 0, Loss: 0.5551779866218567, Test loss: 0.5861000418663025\n",
            "Epochs: 10, Loss: 0.543657124042511, Test loss: 0.5726292729377747\n",
            "Epochs: 20, Loss: 0.5321362614631653, Test loss: 0.559158444404602\n",
            "Epochs: 30, Loss: 0.5206153988838196, Test loss: 0.5456877946853638\n",
            "Epochs: 40, Loss: 0.5090945363044739, Test loss: 0.5322169065475464\n",
            "Epochs: 50, Loss: 0.4975736737251282, Test loss: 0.518746018409729\n",
            "Epochs: 60, Loss: 0.48605290055274963, Test loss: 0.505275309085846\n",
            "Epochs: 70, Loss: 0.47453203797340393, Test loss: 0.49180442094802856\n",
            "Epochs: 80, Loss: 0.4630111753940582, Test loss: 0.47833362221717834\n",
            "Epochs: 90, Loss: 0.4514903128147125, Test loss: 0.4648628234863281\n",
            "Epochs: 100, Loss: 0.4399694502353668, Test loss: 0.4513920247554779\n",
            "Epochs: 110, Loss: 0.4284486174583435, Test loss: 0.4379211962223053\n",
            "Epochs: 120, Loss: 0.4169277548789978, Test loss: 0.4244503974914551\n",
            "Epochs: 130, Loss: 0.4054069519042969, Test loss: 0.41097956895828247\n",
            "Epochs: 140, Loss: 0.39388611912727356, Test loss: 0.39750874042510986\n",
            "Epochs: 150, Loss: 0.38236525654792786, Test loss: 0.38403797149658203\n",
            "Epochs: 160, Loss: 0.37084442377090454, Test loss: 0.37056708335876465\n",
            "Epochs: 170, Loss: 0.3593235909938812, Test loss: 0.3570963442325592\n",
            "Epochs: 180, Loss: 0.3478027284145355, Test loss: 0.3436254858970642\n",
            "Epochs: 190, Loss: 0.3362818658351898, Test loss: 0.3301547169685364\n",
            "Epochs: 200, Loss: 0.3247610628604889, Test loss: 0.31668391823768616\n",
            "Epochs: 210, Loss: 0.3132402002811432, Test loss: 0.30321311950683594\n",
            "Epochs: 220, Loss: 0.3017193675041199, Test loss: 0.28974226117134094\n",
            "Epochs: 230, Loss: 0.29019850492477417, Test loss: 0.2762715220451355\n",
            "Epochs: 240, Loss: 0.27867764234542847, Test loss: 0.2628006637096405\n",
            "Epochs: 250, Loss: 0.26715680956840515, Test loss: 0.2493298500776291\n",
            "Epochs: 260, Loss: 0.25563594698905945, Test loss: 0.23585903644561768\n",
            "Epochs: 270, Loss: 0.24411511421203613, Test loss: 0.22238823771476746\n",
            "Epochs: 280, Loss: 0.232594296336174, Test loss: 0.20891742408275604\n",
            "Epochs: 290, Loss: 0.2210734337568283, Test loss: 0.19544661045074463\n",
            "Epochs: 300, Loss: 0.2095526158809662, Test loss: 0.1819758117198944\n",
            "Epochs: 310, Loss: 0.19803175330162048, Test loss: 0.168504998087883\n",
            "Epochs: 320, Loss: 0.18651089072227478, Test loss: 0.1550341546535492\n",
            "Epochs: 330, Loss: 0.17499005794525146, Test loss: 0.14156337082386017\n",
            "Epochs: 340, Loss: 0.16346919536590576, Test loss: 0.12809252738952637\n",
            "Epochs: 350, Loss: 0.15194837749004364, Test loss: 0.11462175846099854\n",
            "Epochs: 360, Loss: 0.14042752981185913, Test loss: 0.10115091502666473\n",
            "Epochs: 370, Loss: 0.12890668213367462, Test loss: 0.08768012374639511\n",
            "Epochs: 380, Loss: 0.11738584190607071, Test loss: 0.0742093175649643\n",
            "Epochs: 390, Loss: 0.1058650016784668, Test loss: 0.060738492757081985\n",
            "Epochs: 400, Loss: 0.0943441390991211, Test loss: 0.04726767539978027\n",
            "Epochs: 410, Loss: 0.08282329887151718, Test loss: 0.033796876668930054\n",
            "Epochs: 420, Loss: 0.07130245864391327, Test loss: 0.020326072350144386\n",
            "Epochs: 430, Loss: 0.05978161841630936, Test loss: 0.007426714990288019\n",
            "Epochs: 440, Loss: 0.04826076701283455, Test loss: 0.007407677359879017\n",
            "Epochs: 450, Loss: 0.0378650426864624, Test loss: 0.0190771222114563\n",
            "Epochs: 460, Loss: 0.03187794238328934, Test loss: 0.02808508276939392\n",
            "Epochs: 470, Loss: 0.028469419106841087, Test loss: 0.034487903118133545\n",
            "Epochs: 480, Loss: 0.026411056518554688, Test loss: 0.03905702754855156\n",
            "Epochs: 490, Loss: 0.025065984576940536, Test loss: 0.042284976691007614\n",
            "Epochs: 500, Loss: 0.02415679767727852, Test loss: 0.044561706483364105\n",
            "Epochs: 510, Loss: 0.023461055010557175, Test loss: 0.04618941619992256\n",
            "Epochs: 520, Loss: 0.022931063547730446, Test loss: 0.04717463254928589\n",
            "Epochs: 530, Loss: 0.022473130375146866, Test loss: 0.047666825354099274\n",
            "Epochs: 540, Loss: 0.022060489282011986, Test loss: 0.047947727143764496\n",
            "Epochs: 550, Loss: 0.021657321602106094, Test loss: 0.04808936268091202\n",
            "Epochs: 560, Loss: 0.021304484456777573, Test loss: 0.04767390340566635\n",
            "Epochs: 570, Loss: 0.0209516528993845, Test loss: 0.04725844785571098\n",
            "Epochs: 580, Loss: 0.02059881016612053, Test loss: 0.04684300348162651\n",
            "Epochs: 590, Loss: 0.020245973020792007, Test loss: 0.046427540481090546\n",
            "Epochs: 600, Loss: 0.019893139600753784, Test loss: 0.046012092381715775\n",
            "Epochs: 610, Loss: 0.01954030431807041, Test loss: 0.04559662938117981\n",
            "Epochs: 620, Loss: 0.01919577643275261, Test loss: 0.04483792185783386\n",
            "Epochs: 630, Loss: 0.018852895125746727, Test loss: 0.044010549783706665\n",
            "Epochs: 640, Loss: 0.018508991226553917, Test loss: 0.04318317770957947\n",
            "Epochs: 650, Loss: 0.01816551387310028, Test loss: 0.04242447763681412\n",
            "Epochs: 660, Loss: 0.01782246306538582, Test loss: 0.04159710556268692\n",
            "Epochs: 670, Loss: 0.017478549852967262, Test loss: 0.04076974838972092\n",
            "Epochs: 680, Loss: 0.01713525876402855, Test loss: 0.040011029690504074\n",
            "Epochs: 690, Loss: 0.016792025417089462, Test loss: 0.03918365761637688\n",
            "Epochs: 700, Loss: 0.016448121517896652, Test loss: 0.03835631161928177\n",
            "Epochs: 710, Loss: 0.01610499992966652, Test loss: 0.03759758919477463\n",
            "Epochs: 720, Loss: 0.015761589631438255, Test loss: 0.03677021712064743\n",
            "Epochs: 730, Loss: 0.01541768480092287, Test loss: 0.03594285994768143\n",
            "Epochs: 740, Loss: 0.015074740163981915, Test loss: 0.035184163600206375\n",
            "Epochs: 750, Loss: 0.014731155708432198, Test loss: 0.0343567430973053\n",
            "Epochs: 760, Loss: 0.014387348666787148, Test loss: 0.033598072826862335\n",
            "Epochs: 770, Loss: 0.014044483192265034, Test loss: 0.032770704478025436\n",
            "Epochs: 780, Loss: 0.013700786046683788, Test loss: 0.031977683305740356\n",
            "Epochs: 790, Loss: 0.013357451185584068, Test loss: 0.03115031123161316\n",
            "Epochs: 800, Loss: 0.013013547286391258, Test loss: 0.030322950333356857\n",
            "Epochs: 810, Loss: 0.012670524418354034, Test loss: 0.029564226046204567\n",
            "Epochs: 820, Loss: 0.012327016331255436, Test loss: 0.028736865147948265\n",
            "Epochs: 830, Loss: 0.01198313757777214, Test loss: 0.02797815203666687\n",
            "Epochs: 840, Loss: 0.011640267446637154, Test loss: 0.027150804176926613\n",
            "Epochs: 850, Loss: 0.01129657682031393, Test loss: 0.026323432102799416\n",
            "Epochs: 860, Loss: 0.010952873155474663, Test loss: 0.025564705953001976\n",
            "Epochs: 870, Loss: 0.010610010474920273, Test loss: 0.024737346917390823\n",
            "Epochs: 880, Loss: 0.010266144759953022, Test loss: 0.02390999160706997\n",
            "Epochs: 890, Loss: 0.009922618046402931, Test loss: 0.023151272907853127\n",
            "Epochs: 900, Loss: 0.009578981436789036, Test loss: 0.022289592772722244\n",
            "Epochs: 910, Loss: 0.009236056357622147, Test loss: 0.021530885249376297\n",
            "Epochs: 920, Loss: 0.008892446756362915, Test loss: 0.0207035131752491\n",
            "Epochs: 930, Loss: 0.008548661135137081, Test loss: 0.019944816827774048\n",
            "Epochs: 940, Loss: 0.008205791935324669, Test loss: 0.019117433577775955\n",
            "Epochs: 950, Loss: 0.007862004451453686, Test loss: 0.018290072679519653\n",
            "Epochs: 960, Loss: 0.007518401835113764, Test loss: 0.017531346529722214\n",
            "Epochs: 970, Loss: 0.007175474427640438, Test loss: 0.016703998669981956\n",
            "Epochs: 980, Loss: 0.006831566337496042, Test loss: 0.01587662100791931\n",
            "Epochs: 990, Loss: 0.0064881471917033195, Test loss: 0.015117925591766834\n",
            "Epochs: 1000, Loss: 0.006145041435956955, Test loss: 0.014290553517639637\n",
            "Epochs: 1010, Loss: 0.005801583640277386, Test loss: 0.013497531414031982\n",
            "Epochs: 1020, Loss: 0.005457866005599499, Test loss: 0.012670164927840233\n",
            "Epochs: 1030, Loss: 0.0051141902804374695, Test loss: 0.01191144622862339\n",
            "Epochs: 1040, Loss: 0.004771321080625057, Test loss: 0.011084062047302723\n",
            "Epochs: 1050, Loss: 0.004427430219948292, Test loss: 0.010256713256239891\n",
            "Epochs: 1060, Loss: 0.004083932377398014, Test loss: 0.009498000144958496\n",
            "Epochs: 1070, Loss: 0.0037408978678286076, Test loss: 0.008670640178024769\n",
            "Epochs: 1080, Loss: 0.003396999789401889, Test loss: 0.00784327369183302\n",
            "Epochs: 1090, Loss: 0.003053670283406973, Test loss: 0.007084542419761419\n",
            "Epochs: 1100, Loss: 0.002710457891225815, Test loss: 0.006257194094359875\n",
            "Epochs: 1110, Loss: 0.0023665553890168667, Test loss: 0.0054298462346196175\n",
            "Epochs: 1120, Loss: 0.0020234123803675175, Test loss: 0.00467111449688673\n",
            "Epochs: 1130, Loss: 0.0016797177959233522, Test loss: 0.0038780986797064543\n",
            "Epochs: 1140, Loss: 0.0013367675710469484, Test loss: 0.0030507384799420834\n",
            "Epochs: 1150, Loss: 0.0009928576182574034, Test loss: 0.002223366405814886\n",
            "Epochs: 1160, Loss: 0.000649460416752845, Test loss: 0.0014646530617028475\n",
            "Epochs: 1170, Loss: 0.00030632613925263286, Test loss: 0.0006372809293679893\n",
            "Epochs: 1180, Loss: 0.0007765017217025161, Test loss: 0.0006200253847055137\n",
            "Epochs: 1190, Loss: 0.0007765017217025161, Test loss: 0.0006200253847055137\n",
            "Epochs: 1200, Loss: 0.0007765017217025161, Test loss: 0.0006200253847055137\n",
            "Epochs: 1210, Loss: 0.0007765017217025161, Test loss: 0.0006200253847055137\n",
            "Epochs: 1220, Loss: 0.0007765017217025161, Test loss: 0.0006200253847055137\n",
            "Epochs: 1230, Loss: 0.0007765017217025161, Test loss: 0.0006200253847055137\n",
            "Epochs: 1240, Loss: 0.0007765017217025161, Test loss: 0.0006200253847055137\n",
            "Epochs: 1250, Loss: 0.0007765017217025161, Test loss: 0.0006200253847055137\n",
            "Epochs: 1260, Loss: 0.0007765017217025161, Test loss: 0.0006200253847055137\n",
            "Epochs: 1270, Loss: 0.0007765017217025161, Test loss: 0.0006200253847055137\n",
            "Epochs: 1280, Loss: 0.0007765017217025161, Test loss: 0.0006200253847055137\n",
            "Epochs: 1290, Loss: 0.0007765017217025161, Test loss: 0.0006200253847055137\n",
            "Epochs: 1300, Loss: 0.0007765017217025161, Test loss: 0.0006200253847055137\n",
            "Epochs: 1310, Loss: 0.0007765017217025161, Test loss: 0.0006200253847055137\n",
            "Epochs: 1320, Loss: 0.0007765017217025161, Test loss: 0.0006200253847055137\n",
            "Epochs: 1330, Loss: 0.0007765017217025161, Test loss: 0.0006200253847055137\n",
            "Epochs: 1340, Loss: 0.0007765017217025161, Test loss: 0.0006200253847055137\n",
            "Epochs: 1350, Loss: 0.0007765017217025161, Test loss: 0.0006200253847055137\n",
            "Epochs: 1360, Loss: 0.0007765017217025161, Test loss: 0.0006200253847055137\n",
            "Epochs: 1370, Loss: 0.0007765017217025161, Test loss: 0.0006200253847055137\n",
            "Epochs: 1380, Loss: 0.0007765017217025161, Test loss: 0.0006200253847055137\n",
            "Epochs: 1390, Loss: 0.0007765017217025161, Test loss: 0.0006200253847055137\n",
            "Epochs: 1400, Loss: 0.0007765017217025161, Test loss: 0.0006200253847055137\n",
            "Epochs: 1410, Loss: 0.0007765017217025161, Test loss: 0.0006200253847055137\n",
            "Epochs: 1420, Loss: 0.0007765017217025161, Test loss: 0.0006200253847055137\n",
            "Epochs: 1430, Loss: 0.0007765017217025161, Test loss: 0.0006200253847055137\n",
            "Epochs: 1440, Loss: 0.0007765017217025161, Test loss: 0.0006200253847055137\n",
            "Epochs: 1450, Loss: 0.0007765017217025161, Test loss: 0.0006200253847055137\n",
            "Epochs: 1460, Loss: 0.0007765017217025161, Test loss: 0.0006200253847055137\n",
            "Epochs: 1470, Loss: 0.0007765017217025161, Test loss: 0.0006200253847055137\n",
            "Epochs: 1480, Loss: 0.0007765017217025161, Test loss: 0.0006200253847055137\n",
            "Epochs: 1490, Loss: 0.0007765017217025161, Test loss: 0.0006200253847055137\n"
          ]
        }
      ]
    },
    {
      "cell_type": "code",
      "source": [
        "model_1.state_dict()"
      ],
      "metadata": {
        "colab": {
          "base_uri": "https://localhost:8080/"
        },
        "id": "95DJ0Bl_qYwm",
        "outputId": "ec135519-d540-4c75-ef16-476f1d7eb1a2"
      },
      "execution_count": 190,
      "outputs": [
        {
          "output_type": "execute_result",
          "data": {
            "text/plain": [
              "OrderedDict([('linear_layer.weight', tensor([[0.6999]])),\n",
              "             ('linear_layer.bias', tensor([0.3008]))])"
            ]
          },
          "metadata": {},
          "execution_count": 190
        }
      ]
    },
    {
      "cell_type": "code",
      "source": [
        "model_1.eval()\n",
        "\n",
        "with torch.inference_mode():\n",
        "    y_pred = model_1(X_test)\n",
        "\n",
        "y_pred"
      ],
      "metadata": {
        "colab": {
          "base_uri": "https://localhost:8080/"
        },
        "id": "hvPvjtiuqY0f",
        "outputId": "b1ce8a57-6990-4354-a452-d52d0fdbff05"
      },
      "execution_count": 191,
      "outputs": [
        {
          "output_type": "execute_result",
          "data": {
            "text/plain": [
              "tensor([[0.8607],\n",
              "        [0.8747],\n",
              "        [0.8887],\n",
              "        [0.9027],\n",
              "        [0.9167],\n",
              "        [0.9307],\n",
              "        [0.9447],\n",
              "        [0.9587],\n",
              "        [0.9727],\n",
              "        [0.9867]])"
            ]
          },
          "metadata": {},
          "execution_count": 191
        }
      ]
    },
    {
      "cell_type": "code",
      "source": [
        "plot_predictions(predictions=y_pred)"
      ],
      "metadata": {
        "colab": {
          "base_uri": "https://localhost:8080/",
          "height": 368
        },
        "id": "24m_pASwqY2h",
        "outputId": "11a79295-85d2-4fce-c64f-bc892baac668"
      },
      "execution_count": 193,
      "outputs": [
        {
          "output_type": "display_data",
          "data": {
            "text/plain": [
              "<Figure size 700x400 with 1 Axes>"
            ],
            "image/png": "[encoded data removed]"
          },
          "metadata": {}
        }
      ]
    },
    {
      "cell_type": "code",
      "source": [
        "from pathlib import Path\n",
        "\n",
        "model_path = Path(\"models\")\n",
        "model_path.mkdir(parents=True, exist_ok=True)\n",
        "\n",
        "model_name = \"01_python_workflow_model_1.pth\"\n",
        "model_save_path = model_path / model_name\n",
        "\n",
        "torch.save(obj=model_1.state_dict(),\n",
        "           f=model_save_path)\n"
      ],
      "metadata": {
        "id": "_Za6KFWFqY4m"
      },
      "execution_count": 196,
      "outputs": []
    },
    {
      "cell_type": "code",
      "source": [
        "model_1.state_dict()"
      ],
      "metadata": {
        "colab": {
          "base_uri": "https://localhost:8080/"
        },
        "id": "xOf2PwIXqY6N",
        "outputId": "dd9046ea-a1d4-4c44-9b7d-e5178fc8a5c1"
      },
      "execution_count": 194,
      "outputs": [
        {
          "output_type": "execute_result",
          "data": {
            "text/plain": [
              "OrderedDict([('linear_layer.weight', tensor([[0.6999]])),\n",
              "             ('linear_layer.bias', tensor([0.3008]))])"
            ]
          },
          "metadata": {},
          "execution_count": 194
        }
      ]
    },
    {
      "cell_type": "code",
      "source": [
        "loaded_model_1 = LinearRegressionModelV2()\n",
        "\n",
        "loaded_model_1.load_state_dict(torch.load(model_save_path))\n",
        "\n",
        "loaded_model_1.state_dict()"
      ],
      "metadata": {
        "colab": {
          "base_uri": "https://localhost:8080/"
        },
        "id": "SbAncqwfqY8f",
        "outputId": "93822754-f1c8-4940-f61a-f54f226a0723"
      },
      "execution_count": 197,
      "outputs": [
        {
          "output_type": "execute_result",
          "data": {
            "text/plain": [
              "OrderedDict([('linear_layer.weight', tensor([[0.6999]])),\n",
              "             ('linear_layer.bias', tensor([0.3008]))])"
            ]
          },
          "metadata": {},
          "execution_count": 197
        }
      ]
    },
    {
      "cell_type": "code",
      "source": [],
      "metadata": {
        "id": "IzH1QVYrqY-b"
      },
      "execution_count": 192,
      "outputs": []
    },
    {
      "cell_type": "code",
      "source": [],
      "metadata": {
        "id": "vb-SyIe-qY__"
      },
      "execution_count": 192,
      "outputs": []
    },
    {
      "cell_type": "code",
      "source": [],
      "metadata": {
        "id": "xQRyhgGDqZB_"
      },
      "execution_count": 192,
      "outputs": []
    },
    {
      "cell_type": "code",
      "source": [],
      "metadata": {
        "id": "KZqs1xCkqZEA"
      },
      "execution_count": 192,
      "outputs": []
    },
    {
      "cell_type": "code",
      "source": [],
      "metadata": {
        "id": "0MWP_GbzqZF8"
      },
      "execution_count": 192,
      "outputs": []
    },
    {
      "cell_type": "code",
      "source": [],
      "metadata": {
        "id": "ZPQCjQRFqZHw"
      },
      "execution_count": 192,
      "outputs": []
    },
    {
      "cell_type": "code",
      "source": [],
      "metadata": {
        "id": "DiuisqKKqZJ7"
      },
      "execution_count": 192,
      "outputs": []
    },
    {
      "cell_type": "code",
      "source": [],
      "metadata": {
        "id": "rRDkEBf8qZME"
      },
      "execution_count": 192,
      "outputs": []
    },
    {
      "cell_type": "code",
      "source": [],
      "metadata": {
        "id": "zp2bmTvDqZOJ"
      },
      "execution_count": 192,
      "outputs": []
    },
    {
      "cell_type": "code",
      "source": [],
      "metadata": {
        "id": "Cyu1R-x2qZQC"
      },
      "execution_count": 192,
      "outputs": []
    },
    {
      "cell_type": "code",
      "source": [],
      "metadata": {
        "id": "UQpUqSb7qZUB"
      },
      "execution_count": 192,
      "outputs": []
    },
    {
      "cell_type": "code",
      "source": [],
      "metadata": {
        "id": "sRctKrRjqZXf"
      },
      "execution_count": 192,
      "outputs": []
    }
  ]
}