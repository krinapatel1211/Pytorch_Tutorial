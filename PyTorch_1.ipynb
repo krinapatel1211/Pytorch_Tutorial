{
  "nbformat": 4,
  "nbformat_minor": 0,
  "metadata": {
    "colab": {
      "provenance": [],
      "gpuType": "T4",
      "authorship_tag": "ABX9TyOvrZzd58ST1Ed69dKLhO99",
      "include_colab_link": true
    },
    "kernelspec": {
      "name": "python3",
      "display_name": "Python 3"
    },
    "language_info": {
      "name": "python"
    }
  },
  "cells": [
    {
      "cell_type": "markdown",
      "metadata": {
        "id": "view-in-github",
        "colab_type": "text"
      },
      "source": [
        "<a href=\"https://colab.research.google.com/github/krinapatel1211/Pytorch_Tutorial/blob/main/PyTorch_1.ipynb\" target=\"_parent\"><img src=\"https://colab.research.google.com/assets/colab-badge.svg\" alt=\"Open In Colab\"/></a>"
      ]
    },
    {
      "cell_type": "code",
      "execution_count": 1,
      "metadata": {
        "colab": {
          "base_uri": "https://localhost:8080/"
        },
        "id": "mjF24pQgYMMc",
        "outputId": "01569226-1ae2-429d-ec08-e0dc0f3e9c9c"
      },
      "outputs": [
        {
          "output_type": "stream",
          "name": "stdout",
          "text": [
            "cuda\n"
          ]
        }
      ],
      "source": [
        "import torch\n",
        "import torch.nn as nn\n",
        "import torch.nn.functional as F\n",
        "device = 'cuda' if torch.cuda.is_available else 'cpu'\n",
        "print(device)\n",
        "\n",
        "block_size=8\n",
        "batch_size=4"
      ]
    },
    {
      "cell_type": "code",
      "source": [
        "# !pip list"
      ],
      "metadata": {
        "id": "6r_mSYLCZhA1"
      },
      "execution_count": 2,
      "outputs": []
    },
    {
      "cell_type": "markdown",
      "source": [
        "# New section"
      ],
      "metadata": {
        "id": "BlroDApTHHAt"
      }
    },
    {
      "cell_type": "markdown",
      "source": [
        "TENSORS"
      ],
      "metadata": {
        "id": "XuF20imLopI6"
      }
    },
    {
      "cell_type": "code",
      "source": [
        "import torch\n",
        "import numpy as np\n"
      ],
      "metadata": {
        "id": "pLufKeomobb6"
      },
      "execution_count": 3,
      "outputs": []
    },
    {
      "cell_type": "code",
      "source": [
        "tensor_2d = torch.randn(3, 4)\n",
        "tensor_2d"
      ],
      "metadata": {
        "colab": {
          "base_uri": "https://localhost:8080/"
        },
        "id": "tCa9n-vbowlN",
        "outputId": "5b80cc6d-cd28-496b-cc9b-db220a1ee037"
      },
      "execution_count": 4,
      "outputs": [
        {
          "output_type": "execute_result",
          "data": {
            "text/plain": [
              "tensor([[ 0.1963, -2.0318,  0.2402, -0.3236],\n",
              "        [ 1.1222, -0.9836, -0.7352, -0.5260],\n",
              "        [ 0.6405,  1.3071,  1.3076, -0.1291]])"
            ]
          },
          "metadata": {},
          "execution_count": 4
        }
      ]
    },
    {
      "cell_type": "code",
      "source": [
        "tensor_3d = torch.randn(2,3,4)\n",
        "tensor_3d"
      ],
      "metadata": {
        "colab": {
          "base_uri": "https://localhost:8080/"
        },
        "id": "BZZ8BuGrrDWk",
        "outputId": "88d420d4-6175-4fb9-f0f6-f6cce7f59ad2"
      },
      "execution_count": 5,
      "outputs": [
        {
          "output_type": "execute_result",
          "data": {
            "text/plain": [
              "tensor([[[-0.9586, -1.3645,  0.2123, -0.6144],\n",
              "         [-0.6580, -0.6291, -1.2965,  0.8183],\n",
              "         [-1.2309,  1.8250, -0.1847, -0.8453]],\n",
              "\n",
              "        [[ 0.1314, -1.2555,  1.0768,  0.4864],\n",
              "         [ 0.9921,  1.1392, -0.4768,  0.0485],\n",
              "         [-0.0700, -0.0054,  0.9473, -0.8873]]])"
            ]
          },
          "metadata": {},
          "execution_count": 5
        }
      ]
    },
    {
      "cell_type": "code",
      "source": [
        "tensor_3d.dtype"
      ],
      "metadata": {
        "colab": {
          "base_uri": "https://localhost:8080/"
        },
        "id": "GTMjPI9srLPx",
        "outputId": "84cfbe1d-80a3-4107-954e-15b57b9f821d"
      },
      "execution_count": 6,
      "outputs": [
        {
          "output_type": "execute_result",
          "data": {
            "text/plain": [
              "torch.float32"
            ]
          },
          "metadata": {},
          "execution_count": 6
        }
      ]
    },
    {
      "cell_type": "code",
      "source": [
        "tensor_2d.dtype"
      ],
      "metadata": {
        "colab": {
          "base_uri": "https://localhost:8080/"
        },
        "id": "j7DqZ79prqxz",
        "outputId": "4a2801b4-2646-4892-b645-f0812cc6f60c"
      },
      "execution_count": 7,
      "outputs": [
        {
          "output_type": "execute_result",
          "data": {
            "text/plain": [
              "torch.float32"
            ]
          },
          "metadata": {},
          "execution_count": 7
        }
      ]
    },
    {
      "cell_type": "code",
      "source": [
        "# create tensor out of numpy array, now the tensor is of type float64\n",
        "\n",
        "np1 = np.random.randn(3,4,2)\n",
        "\n",
        "my_tensor = torch.tensor(np1)\n",
        "my_tensor"
      ],
      "metadata": {
        "colab": {
          "base_uri": "https://localhost:8080/"
        },
        "id": "j6wQ_hOnruay",
        "outputId": "5fdb53ea-baf6-4f97-ae55-b2946b0f14ba"
      },
      "execution_count": 8,
      "outputs": [
        {
          "output_type": "execute_result",
          "data": {
            "text/plain": [
              "tensor([[[ 0.6161,  0.6951],\n",
              "         [ 0.1742,  0.0110],\n",
              "         [ 1.8145,  0.7027],\n",
              "         [-0.2994, -0.2108]],\n",
              "\n",
              "        [[ 0.0605,  0.1274],\n",
              "         [ 0.8148,  0.5566],\n",
              "         [ 0.3888,  0.9365],\n",
              "         [-2.4209, -0.1780]],\n",
              "\n",
              "        [[ 0.1603,  0.1339],\n",
              "         [-0.2872, -1.3245],\n",
              "         [-0.9310,  0.5053],\n",
              "         [-0.5939, -2.6130]]], dtype=torch.float64)"
            ]
          },
          "metadata": {},
          "execution_count": 8
        }
      ]
    },
    {
      "cell_type": "markdown",
      "source": [
        "## **TENSOR** **OPERATIONS**"
      ],
      "metadata": {
        "id": "nWUAYmgIBNbL"
      }
    },
    {
      "cell_type": "code",
      "source": [
        "my_torch = torch.arange(10)\n",
        "my_torch"
      ],
      "metadata": {
        "colab": {
          "base_uri": "https://localhost:8080/"
        },
        "id": "pznvPDeEBasY",
        "outputId": "310042f0-b34c-4593-ad02-38b69641476c"
      },
      "execution_count": 9,
      "outputs": [
        {
          "output_type": "execute_result",
          "data": {
            "text/plain": [
              "tensor([0, 1, 2, 3, 4, 5, 6, 7, 8, 9])"
            ]
          },
          "metadata": {},
          "execution_count": 9
        }
      ]
    },
    {
      "cell_type": "code",
      "source": [
        "my_torch = my_torch.reshape(2, 5)\n",
        "my_torch"
      ],
      "metadata": {
        "colab": {
          "base_uri": "https://localhost:8080/"
        },
        "id": "iUR4ubOaBhU9",
        "outputId": "a32ae64f-ee6e-4dda-e1f1-56dbd327200c"
      },
      "execution_count": 10,
      "outputs": [
        {
          "output_type": "execute_result",
          "data": {
            "text/plain": [
              "tensor([[0, 1, 2, 3, 4],\n",
              "        [5, 6, 7, 8, 9]])"
            ]
          },
          "metadata": {},
          "execution_count": 10
        }
      ]
    },
    {
      "cell_type": "code",
      "source": [
        "my_torch = my_torch.reshape(5, -1)\n",
        "my_torch"
      ],
      "metadata": {
        "colab": {
          "base_uri": "https://localhost:8080/"
        },
        "id": "FbO1f8p3BlbY",
        "outputId": "1955066e-4acf-42ac-9299-a8dbfa958096"
      },
      "execution_count": 11,
      "outputs": [
        {
          "output_type": "execute_result",
          "data": {
            "text/plain": [
              "tensor([[0, 1],\n",
              "        [2, 3],\n",
              "        [4, 5],\n",
              "        [6, 7],\n",
              "        [8, 9]])"
            ]
          },
          "metadata": {},
          "execution_count": 11
        }
      ]
    },
    {
      "cell_type": "code",
      "source": [
        "my_torch = my_torch.reshape(1, -1)\n",
        "my_torch"
      ],
      "metadata": {
        "colab": {
          "base_uri": "https://localhost:8080/"
        },
        "id": "IF97sOzbBzeW",
        "outputId": "cf41aeca-ddf4-4a86-8e9a-a0b196413b06"
      },
      "execution_count": 12,
      "outputs": [
        {
          "output_type": "execute_result",
          "data": {
            "text/plain": [
              "tensor([[0, 1, 2, 3, 4, 5, 6, 7, 8, 9]])"
            ]
          },
          "metadata": {},
          "execution_count": 12
        }
      ]
    },
    {
      "cell_type": "code",
      "source": [
        "randint = torch.randint(-100, 100, (6,2))\n",
        "randint"
      ],
      "metadata": {
        "colab": {
          "base_uri": "https://localhost:8080/"
        },
        "id": "wQpEXMcgB78Z",
        "outputId": "b01cf0b7-43c3-4ed6-d7e3-43db56c7c898"
      },
      "execution_count": 13,
      "outputs": [
        {
          "output_type": "execute_result",
          "data": {
            "text/plain": [
              "tensor([[-58, -33],\n",
              "        [-31,  33],\n",
              "        [ 80,  48],\n",
              "        [ 77,  22],\n",
              "        [-40, -44],\n",
              "        [-49,  81]])"
            ]
          },
          "metadata": {},
          "execution_count": 13
        }
      ]
    },
    {
      "cell_type": "code",
      "source": [
        "tensor = torch.tensor([[0.1, 1.2],[2.2,3.1],[4.9, 5.2]])\n",
        "tensor"
      ],
      "metadata": {
        "colab": {
          "base_uri": "https://localhost:8080/"
        },
        "id": "Ma3f8km4d1H8",
        "outputId": "5987f134-6eda-4844-c510-9efd3e9824e8"
      },
      "execution_count": 14,
      "outputs": [
        {
          "output_type": "execute_result",
          "data": {
            "text/plain": [
              "tensor([[0.1000, 1.2000],\n",
              "        [2.2000, 3.1000],\n",
              "        [4.9000, 5.2000]])"
            ]
          },
          "metadata": {},
          "execution_count": 14
        }
      ]
    },
    {
      "cell_type": "code",
      "source": [
        "zeros = torch.zeros(2,3)\n",
        "zeros"
      ],
      "metadata": {
        "colab": {
          "base_uri": "https://localhost:8080/"
        },
        "id": "px7wV1qVd1Tf",
        "outputId": "0a6ab6d3-9175-4e60-89e9-2bcd899931f6"
      },
      "execution_count": 15,
      "outputs": [
        {
          "output_type": "execute_result",
          "data": {
            "text/plain": [
              "tensor([[0., 0., 0.],\n",
              "        [0., 0., 0.]])"
            ]
          },
          "metadata": {},
          "execution_count": 15
        }
      ]
    },
    {
      "cell_type": "code",
      "source": [
        "ones = torch.ones(3, 4)\n",
        "ones"
      ],
      "metadata": {
        "colab": {
          "base_uri": "https://localhost:8080/"
        },
        "id": "mmg0n8Oyd1Wo",
        "outputId": "13015d62-5901-4163-f02e-334a97cc5279"
      },
      "execution_count": 16,
      "outputs": [
        {
          "output_type": "execute_result",
          "data": {
            "text/plain": [
              "tensor([[1., 1., 1., 1.],\n",
              "        [1., 1., 1., 1.],\n",
              "        [1., 1., 1., 1.]])"
            ]
          },
          "metadata": {},
          "execution_count": 16
        }
      ]
    },
    {
      "cell_type": "code",
      "source": [
        "input = torch.empty(2,3)\n",
        "input"
      ],
      "metadata": {
        "colab": {
          "base_uri": "https://localhost:8080/"
        },
        "id": "dpqVjEl_d1ZP",
        "outputId": "7d42f7ea-6065-4f66-e1ab-daf1933481be"
      },
      "execution_count": 17,
      "outputs": [
        {
          "output_type": "execute_result",
          "data": {
            "text/plain": [
              "tensor([[-1.1416e-28,  3.2849e-41, -1.1422e-28],\n",
              "        [ 3.2849e-41,  0.0000e+00,  0.0000e+00]])"
            ]
          },
          "metadata": {},
          "execution_count": 17
        }
      ]
    },
    {
      "cell_type": "code",
      "source": [
        "#\n",
        "arange = torch.arange(5)\n",
        "arange"
      ],
      "metadata": {
        "colab": {
          "base_uri": "https://localhost:8080/"
        },
        "id": "G_NgNCmyd1bD",
        "outputId": "d48114dd-638b-4932-82e8-8192097d8d9e"
      },
      "execution_count": 18,
      "outputs": [
        {
          "output_type": "execute_result",
          "data": {
            "text/plain": [
              "tensor([0, 1, 2, 3, 4])"
            ]
          },
          "metadata": {},
          "execution_count": 18
        }
      ]
    },
    {
      "cell_type": "code",
      "source": [
        "linespace = torch.linspace(3, 10, steps=5)\n",
        "linespace"
      ],
      "metadata": {
        "colab": {
          "base_uri": "https://localhost:8080/"
        },
        "id": "nJCCid81d1dM",
        "outputId": "2f3ce09e-25bf-4e53-fdb9-d3a4511bef27"
      },
      "execution_count": 19,
      "outputs": [
        {
          "output_type": "execute_result",
          "data": {
            "text/plain": [
              "tensor([ 3.0000,  4.7500,  6.5000,  8.2500, 10.0000])"
            ]
          },
          "metadata": {},
          "execution_count": 19
        }
      ]
    },
    {
      "cell_type": "markdown",
      "source": [
        "\n"
      ],
      "metadata": {
        "id": "rOdk0XP0HMsa"
      }
    },
    {
      "cell_type": "code",
      "source": [
        "\n",
        "logspace = torch.logspace(start=-10, end=10, steps=5)\n",
        "logspace"
      ],
      "metadata": {
        "colab": {
          "base_uri": "https://localhost:8080/"
        },
        "id": "OnY97tEHibQ_",
        "outputId": "0586493a-edd7-4deb-84f1-770cbc2ea126"
      },
      "execution_count": 20,
      "outputs": [
        {
          "output_type": "execute_result",
          "data": {
            "text/plain": [
              "tensor([1.0000e-10, 1.0000e-05, 1.0000e+00, 1.0000e+05, 1.0000e+10])"
            ]
          },
          "metadata": {},
          "execution_count": 20
        }
      ]
    },
    {
      "cell_type": "code",
      "source": [
        "eye = torch.eye(5)\n",
        "eye"
      ],
      "metadata": {
        "colab": {
          "base_uri": "https://localhost:8080/"
        },
        "id": "27L60YjribT7",
        "outputId": "cb4167c8-878a-4783-8c06-660486c415a7"
      },
      "execution_count": 21,
      "outputs": [
        {
          "output_type": "execute_result",
          "data": {
            "text/plain": [
              "tensor([[1., 0., 0., 0., 0.],\n",
              "        [0., 1., 0., 0., 0.],\n",
              "        [0., 0., 1., 0., 0.],\n",
              "        [0., 0., 0., 1., 0.],\n",
              "        [0., 0., 0., 0., 1.]])"
            ]
          },
          "metadata": {},
          "execution_count": 21
        }
      ]
    },
    {
      "cell_type": "code",
      "source": [
        "a = torch.empty((2,3), dtype=torch.int64)\n",
        "\n",
        "empty_like = torch.empty_like(a)\n",
        "empty_like\n"
      ],
      "metadata": {
        "colab": {
          "base_uri": "https://localhost:8080/"
        },
        "id": "WIYgvDTPibWi",
        "outputId": "7f5ae624-a630-422a-e035-d21569db0ce9"
      },
      "execution_count": 22,
      "outputs": [
        {
          "output_type": "execute_result",
          "data": {
            "text/plain": [
              "tensor([[134899711409568, 134899711409568,              32],\n",
              "        [            112, 100704773069913,               0]])"
            ]
          },
          "metadata": {},
          "execution_count": 22
        }
      ]
    },
    {
      "cell_type": "markdown",
      "source": [
        "## SOME TORCH **FUNCTIONS**"
      ],
      "metadata": {
        "id": "SJTKkYC3j2xE"
      }
    },
    {
      "cell_type": "code",
      "source": [
        "probabilities = torch.tensor([0.1, 0.9])\n",
        "samples = torch.multinomial(probabilities, num_samples=10, replacement=True)\n",
        "samples"
      ],
      "metadata": {
        "colab": {
          "base_uri": "https://localhost:8080/"
        },
        "id": "m1MG5jmBibeg",
        "outputId": "0723ec64-cea2-40b6-c7ef-8b80c11b0bfd"
      },
      "execution_count": 23,
      "outputs": [
        {
          "output_type": "execute_result",
          "data": {
            "text/plain": [
              "tensor([1, 1, 1, 1, 1, 1, 1, 1, 0, 0])"
            ]
          },
          "metadata": {},
          "execution_count": 23
        }
      ]
    },
    {
      "cell_type": "code",
      "source": [
        "tensor = torch.tensor([1,2,3,4])\n",
        "out = torch.cat((tensor, torch.tensor([5,6,7])), dim=0)\n",
        "out"
      ],
      "metadata": {
        "colab": {
          "base_uri": "https://localhost:8080/"
        },
        "id": "AotwNAIzj_Cu",
        "outputId": "71fd9f76-e987-4a40-b2ef-af6853a0ae04"
      },
      "execution_count": 24,
      "outputs": [
        {
          "output_type": "execute_result",
          "data": {
            "text/plain": [
              "tensor([1, 2, 3, 4, 5, 6, 7])"
            ]
          },
          "metadata": {},
          "execution_count": 24
        }
      ]
    },
    {
      "cell_type": "code",
      "source": [
        "tensor = torch.tril(torch.ones(5,5))\n",
        "tensor"
      ],
      "metadata": {
        "colab": {
          "base_uri": "https://localhost:8080/"
        },
        "id": "jeTAJmshj_F5",
        "outputId": "32b000fb-9854-48e0-ad66-9c3fddcb560a"
      },
      "execution_count": 25,
      "outputs": [
        {
          "output_type": "execute_result",
          "data": {
            "text/plain": [
              "tensor([[1., 0., 0., 0., 0.],\n",
              "        [1., 1., 0., 0., 0.],\n",
              "        [1., 1., 1., 0., 0.],\n",
              "        [1., 1., 1., 1., 0.],\n",
              "        [1., 1., 1., 1., 1.]])"
            ]
          },
          "metadata": {},
          "execution_count": 25
        }
      ]
    },
    {
      "cell_type": "code",
      "source": [
        "torch.tril(torch.tensor([[1,2,3],[4,5,6]]), diagonal=1)"
      ],
      "metadata": {
        "colab": {
          "base_uri": "https://localhost:8080/"
        },
        "id": "G4RrnX_dj_JC",
        "outputId": "082eef17-208e-4b0e-d500-a9201831123c"
      },
      "execution_count": 26,
      "outputs": [
        {
          "output_type": "execute_result",
          "data": {
            "text/plain": [
              "tensor([[1, 2, 0],\n",
              "        [4, 5, 6]])"
            ]
          },
          "metadata": {},
          "execution_count": 26
        }
      ]
    },
    {
      "cell_type": "code",
      "source": [
        "torch.triu(torch.tensor([[1,6],[7,8],[9,5],[4,7]]), diagonal=0)"
      ],
      "metadata": {
        "colab": {
          "base_uri": "https://localhost:8080/"
        },
        "id": "PrNb3xDDj_Ly",
        "outputId": "a44c2727-8d85-4953-cf23-2f33289eefa0"
      },
      "execution_count": 27,
      "outputs": [
        {
          "output_type": "execute_result",
          "data": {
            "text/plain": [
              "tensor([[1, 6],\n",
              "        [0, 8],\n",
              "        [0, 0],\n",
              "        [0, 0]])"
            ]
          },
          "metadata": {},
          "execution_count": 27
        }
      ]
    },
    {
      "cell_type": "code",
      "source": [
        "input_tensor = torch.tensor([[1,6],[7,8]])\n",
        "masked_tensor = torch.tensor([[True, False], [True, True]])\n",
        "\n",
        "torch.masked_fill(input_tensor, masked_tensor, value=1)"
      ],
      "metadata": {
        "colab": {
          "base_uri": "https://localhost:8080/"
        },
        "id": "1HB5L8OribhL",
        "outputId": "af14cb34-1f6b-424b-b7dd-97f258f7112a"
      },
      "execution_count": 28,
      "outputs": [
        {
          "output_type": "execute_result",
          "data": {
            "text/plain": [
              "tensor([[1, 6],\n",
              "        [1, 1]])"
            ]
          },
          "metadata": {},
          "execution_count": 28
        }
      ]
    },
    {
      "cell_type": "code",
      "source": [
        "input = torch.zeros(2,3,4)\n",
        "output = input.transpose(0, 2)\n",
        "output.shape"
      ],
      "metadata": {
        "colab": {
          "base_uri": "https://localhost:8080/"
        },
        "id": "e3DIjenHibj6",
        "outputId": "4009b66e-a289-40dd-fc7e-1ede79dd88d1"
      },
      "execution_count": 29,
      "outputs": [
        {
          "output_type": "execute_result",
          "data": {
            "text/plain": [
              "torch.Size([4, 3, 2])"
            ]
          },
          "metadata": {},
          "execution_count": 29
        }
      ]
    },
    {
      "cell_type": "code",
      "source": [
        "input"
      ],
      "metadata": {
        "colab": {
          "base_uri": "https://localhost:8080/"
        },
        "id": "IVmSslDiibml",
        "outputId": "bcddf862-b565-41a0-af98-fd845e3a1e15"
      },
      "execution_count": 30,
      "outputs": [
        {
          "output_type": "execute_result",
          "data": {
            "text/plain": [
              "tensor([[[0., 0., 0., 0.],\n",
              "         [0., 0., 0., 0.],\n",
              "         [0., 0., 0., 0.]],\n",
              "\n",
              "        [[0., 0., 0., 0.],\n",
              "         [0., 0., 0., 0.],\n",
              "         [0., 0., 0., 0.]]])"
            ]
          },
          "metadata": {},
          "execution_count": 30
        }
      ]
    },
    {
      "cell_type": "code",
      "source": [
        "tensor_1 = torch.tensor([1,2,3])\n",
        "tensor_2 = torch.tensor([4,6,8])\n",
        "tensor_3 = torch.tensor([9,3,5])\n",
        "\n",
        "stacked_tensor = torch.stack([tensor_1, tensor_2, tensor_3])\n",
        "stacked_tensor"
      ],
      "metadata": {
        "colab": {
          "base_uri": "https://localhost:8080/"
        },
        "id": "3eneCE0tibpY",
        "outputId": "cfec2d28-b16f-4089-e1fe-9de1b5bb6d05"
      },
      "execution_count": 31,
      "outputs": [
        {
          "output_type": "execute_result",
          "data": {
            "text/plain": [
              "tensor([[1, 2, 3],\n",
              "        [4, 6, 8],\n",
              "        [9, 3, 5]])"
            ]
          },
          "metadata": {},
          "execution_count": 31
        }
      ]
    },
    {
      "cell_type": "code",
      "source": [
        "sample = torch.tensor([10.,10.,10.])\n",
        "linear = nn.Linear(3,3, bias=False)\n",
        "print(linear(sample))"
      ],
      "metadata": {
        "colab": {
          "base_uri": "https://localhost:8080/"
        },
        "id": "DYWSf7k_ibsl",
        "outputId": "8ba62c24-c24b-423f-fa07-b95723b6869e"
      },
      "execution_count": 32,
      "outputs": [
        {
          "output_type": "stream",
          "name": "stdout",
          "text": [
            "tensor([-7.2092, -6.4121, -8.4083], grad_fn=<SqueezeBackward4>)\n"
          ]
        }
      ]
    },
    {
      "cell_type": "code",
      "source": [
        "tensor1 = torch.tensor([1., 2., 3.])\n",
        "softmax_output = F.softmax(tensor1, dim=0)\n",
        "softmax_output"
      ],
      "metadata": {
        "colab": {
          "base_uri": "https://localhost:8080/"
        },
        "id": "yN_UA7rYibu-",
        "outputId": "4174dc85-b7c1-4150-ea6a-608d0d3f624a"
      },
      "execution_count": 33,
      "outputs": [
        {
          "output_type": "execute_result",
          "data": {
            "text/plain": [
              "tensor([0.0900, 0.2447, 0.6652])"
            ]
          },
          "metadata": {},
          "execution_count": 33
        }
      ]
    },
    {
      "cell_type": "code",
      "source": [
        "\n",
        "# Define vocabulary size and embedding dimension\n",
        "vocab_size = 10000\n",
        "embedding_dim = 100\n",
        "\n",
        "# Create an embedding layer\n",
        "embedding = nn.Embedding(vocab_size, embedding_dim)\n",
        "\n",
        "# Example input sequence\n",
        "input_sequence = torch.LongTensor([1, 5, 7, 3, 2])\n",
        "\n",
        "# Pass input through the embedding layer\n",
        "embedded_sequence = embedding(input_sequence)\n",
        "\n",
        "print(embedded_sequence.shape)\n",
        "print(embedded_sequence)\n",
        "\n"
      ],
      "metadata": {
        "id": "MUx9aHzatzPJ"
      },
      "execution_count": null,
      "outputs": []
    },
    {
      "cell_type": "code",
      "source": [
        "# Matrix multiplication\n",
        "a = torch.tensor([[1,2],[3,4],[5,6]])\n",
        "b = torch.tensor([[7,8,9],[10,11,12]])\n",
        "print(a @ b)"
      ],
      "metadata": {
        "colab": {
          "base_uri": "https://localhost:8080/"
        },
        "id": "hEDeFchaoGT8",
        "outputId": "9165ff4d-462f-41b5-9070-d291f08cad0c"
      },
      "execution_count": 37,
      "outputs": [
        {
          "output_type": "stream",
          "name": "stdout",
          "text": [
            "tensor([[ 27,  30,  33],\n",
            "        [ 61,  68,  75],\n",
            "        [ 95, 106, 117]])\n"
          ]
        }
      ]
    },
    {
      "cell_type": "code",
      "source": [
        "int_64 = torch.randint(5, (3,2)).float()\n",
        "float_32 = torch.rand(2,3)\n",
        "print(torch.matmul(int_64, float_32))"
      ],
      "metadata": {
        "colab": {
          "base_uri": "https://localhost:8080/"
        },
        "id": "TFXZqbkBpZvq",
        "outputId": "24011a8a-babe-4b8e-82c6-ba0d44071217"
      },
      "execution_count": 39,
      "outputs": [
        {
          "output_type": "stream",
          "name": "stdout",
          "text": [
            "tensor([[3.5606, 4.1922, 5.5632],\n",
            "        [2.5742, 2.2175, 3.6299],\n",
            "        [2.1733, 3.3721, 3.7876]])\n"
          ]
        }
      ]
    },
    {
      "cell_type": "code",
      "source": [],
      "metadata": {
        "id": "m3NSnStpqfvk"
      },
      "execution_count": null,
      "outputs": []
    }
  ]
}