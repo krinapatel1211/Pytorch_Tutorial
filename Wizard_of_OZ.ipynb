{
  "nbformat": 4,
  "nbformat_minor": 0,
  "metadata": {
    "colab": {
      "provenance": [],
      "gpuType": "T4",
      "authorship_tag": "ABX9TyOJuexfsp/hITLLtPAh9nKW",
      "include_colab_link": true
    },
    "kernelspec": {
      "name": "python3",
      "display_name": "Python 3"
    },
    "language_info": {
      "name": "python"
    },
    "accelerator": "GPU"
  },
  "cells": [
    {
      "cell_type": "markdown",
      "metadata": {
        "id": "view-in-github",
        "colab_type": "text"
      },
      "source": [
        "<a href=\"https://colab.research.google.com/github/krinapatel1211/Pytorch_Tutorial/blob/main/Wizard_of_OZ.ipynb\" target=\"_parent\"><img src=\"https://colab.research.google.com/assets/colab-badge.svg\" alt=\"Open In Colab\"/></a>"
      ]
    },
    {
      "cell_type": "code",
      "source": [
        "import pandas as pd\n",
        "import numpy as np\n",
        "import torch\n",
        "\n",
        "import torch.nn as nn\n",
        "from torch.nn import functional as F\n",
        "block_size = 8\n",
        "batch_size = 4\n",
        "\n",
        "max_iters = 1000\n",
        "# eval_interval = 2500\n",
        "learning_rate = 3e-4\n",
        "eval_iters = 250"
      ],
      "metadata": {
        "id": "MLQnXPqhUOHl"
      },
      "execution_count": 36,
      "outputs": []
    },
    {
      "cell_type": "code",
      "execution_count": 25,
      "metadata": {
        "id": "GKGtXpQMJGRt"
      },
      "outputs": [],
      "source": [
        "with open(\"/content/wizard_of_oz.txt\", 'r', encoding='utf-8') as f:\n",
        "  text = f.read()"
      ]
    },
    {
      "cell_type": "code",
      "source": [
        "print(text[:200])"
      ],
      "metadata": {
        "colab": {
          "base_uri": "https://localhost:8080/"
        },
        "id": "wr6VJowFJn3c",
        "outputId": "bcf16c17-3922-4d2c-ac07-0a7ccf8cc76a"
      },
      "execution_count": 26,
      "outputs": [
        {
          "output_type": "stream",
          "name": "stdout",
          "text": [
            "﻿  DOROTHY AND THE WIZARD IN OZ\n",
            "\n",
            "  BY\n",
            "\n",
            "  L. FRANK BAUM\n",
            "\n",
            "  AUTHOR OF THE WIZARD OF OZ, THE LAND OF OZ, OZMA OF OZ, ETC.\n",
            "\n",
            "  ILLUSTRATED BY JOHN R. NEILL\n",
            "\n",
            "  BOOKS OF WONDER WILLIAM MORROW & CO., INC. NEW\n"
          ]
        }
      ]
    },
    {
      "cell_type": "code",
      "source": [
        "chars = sorted(set(text))\n",
        "vocab_size = len(chars)\n",
        "print(chars)"
      ],
      "metadata": {
        "colab": {
          "base_uri": "https://localhost:8080/"
        },
        "id": "hkH-pKpqJvzm",
        "outputId": "60f44c34-ff12-42a1-e7e2-1da9451642e9"
      },
      "execution_count": 27,
      "outputs": [
        {
          "output_type": "stream",
          "name": "stdout",
          "text": [
            "['\\n', ' ', '!', '\"', '&', \"'\", '(', ')', '*', ',', '-', '.', '0', '1', '2', '3', '4', '5', '6', '7', '8', '9', ':', ';', '?', 'A', 'B', 'C', 'D', 'E', 'F', 'G', 'H', 'I', 'J', 'K', 'L', 'M', 'N', 'O', 'P', 'Q', 'R', 'S', 'T', 'U', 'V', 'W', 'X', 'Y', 'Z', '[', ']', '_', 'a', 'b', 'c', 'd', 'e', 'f', 'g', 'h', 'i', 'j', 'k', 'l', 'm', 'n', 'o', 'p', 'q', 'r', 's', 't', 'u', 'v', 'w', 'x', 'y', 'z', '\\ufeff']\n"
          ]
        }
      ]
    },
    {
      "cell_type": "code",
      "source": [
        "print(len(chars))"
      ],
      "metadata": {
        "colab": {
          "base_uri": "https://localhost:8080/"
        },
        "id": "g0rDcv27J0P4",
        "outputId": "02b8e1b1-fa0e-46f5-fdf0-b12dbab95fc1"
      },
      "execution_count": 28,
      "outputs": [
        {
          "output_type": "stream",
          "name": "stdout",
          "text": [
            "81\n"
          ]
        }
      ]
    },
    {
      "cell_type": "code",
      "source": [
        "string_to_int ={ch:i for i,ch in enumerate(chars)}\n",
        "int_to_string = {i:ch for i,ch in enumerate(chars)}\n",
        "\n",
        "encode = lambda s: [string_to_int[c] for c in s]\n",
        "decode = lambda l: [int_to_string[i] for i in l]\n",
        "\n",
        "encoded_hello = encode('hello')\n",
        "decoded_hello = decode(encoded_hello)\n",
        "\n",
        "print(encoded_hello, decoded_hello)"
      ],
      "metadata": {
        "colab": {
          "base_uri": "https://localhost:8080/"
        },
        "id": "rhI0s0QFJ-7y",
        "outputId": "7891c0e8-4685-4ffb-b3ee-ad7496fd5659"
      },
      "execution_count": 29,
      "outputs": [
        {
          "output_type": "stream",
          "name": "stdout",
          "text": [
            "[61, 58, 65, 65, 68] ['h', 'e', 'l', 'l', 'o']\n"
          ]
        }
      ]
    },
    {
      "cell_type": "code",
      "source": [
        "data = torch.tensor(encode(text), dtype=torch.long)\n",
        "print(data[:100])\n"
      ],
      "metadata": {
        "colab": {
          "base_uri": "https://localhost:8080/"
        },
        "id": "BKwSkfD9SqdC",
        "outputId": "67ca7d36-8db8-44a7-c479-1ac552e9d93c"
      },
      "execution_count": 30,
      "outputs": [
        {
          "output_type": "stream",
          "name": "stdout",
          "text": [
            "tensor([80,  1,  1, 28, 39, 42, 39, 44, 32, 49,  1, 25, 38, 28,  1, 44, 32, 29,\n",
            "         1, 47, 33, 50, 25, 42, 28,  1, 33, 38,  1, 39, 50,  0,  0,  1,  1, 26,\n",
            "        49,  0,  0,  1,  1, 36, 11,  1, 30, 42, 25, 38, 35,  1, 26, 25, 45, 37,\n",
            "         0,  0,  1,  1, 25, 45, 44, 32, 39, 42,  1, 39, 30,  1, 44, 32, 29,  1,\n",
            "        47, 33, 50, 25, 42, 28,  1, 39, 30,  1, 39, 50,  9,  1, 44, 32, 29,  1,\n",
            "        36, 25, 38, 28,  1, 39, 30,  1, 39, 50])\n"
          ]
        }
      ]
    },
    {
      "cell_type": "code",
      "source": [
        "from re import I\n",
        "n = int(0.8*len(data))\n",
        "train_data = data[:n]\n",
        "val_data = data[n:]\n",
        "\n",
        "def get_batch(split):\n",
        "  data = train_data if split == 'train' else val_data\n",
        "  ix = torch.randint(len(data) - block_size, (batch_size,))\n",
        "  # print(ix)\n",
        "  x = torch.stack([data[i:i+block_size] for i in ix])\n",
        "  y = torch.stack([data[i+1:i+block_size+1] for i in ix])\n",
        "  return x, y\n",
        "\n",
        "\n",
        "x, y = get_batch('train')\n",
        "print('input: ')\n",
        "print(x)\n",
        "\n"
      ],
      "metadata": {
        "id": "QrFXHnj3UGIU",
        "colab": {
          "base_uri": "https://localhost:8080/"
        },
        "outputId": "5bdf5f28-819d-4b28-d85a-da398b679c1a"
      },
      "execution_count": 40,
      "outputs": [
        {
          "output_type": "stream",
          "name": "stdout",
          "text": [
            "input: \n",
            "tensor([[ 1, 55, 58,  1, 56, 54, 65, 65],\n",
            "        [58, 73, 23,  1, 59, 68, 71,  1],\n",
            "        [56, 61, 58, 57,  1, 73, 61, 62],\n",
            "        [73, 62, 56, 62, 54, 67,  9,  1]])\n"
          ]
        }
      ]
    },
    {
      "cell_type": "code",
      "source": [
        "block_size = 8\n",
        "\n",
        "x = train_data[:block_size]\n",
        "y = train_data[1:block_size+1]\n",
        "\n",
        "for t in range(block_size):\n",
        "  context = x[:t+1]\n",
        "  target = y[t]\n",
        "  print(\"when input is\", context, \"target is\", target)"
      ],
      "metadata": {
        "colab": {
          "base_uri": "https://localhost:8080/"
        },
        "id": "XV2mHZlUU5i-",
        "outputId": "4a2d3bef-085d-4e60-ae2a-0bd93a40cda0"
      },
      "execution_count": 32,
      "outputs": [
        {
          "output_type": "stream",
          "name": "stdout",
          "text": [
            "when input is tensor([80]) target is tensor(1)\n",
            "when input is tensor([80,  1]) target is tensor(1)\n",
            "when input is tensor([80,  1,  1]) target is tensor(28)\n",
            "when input is tensor([80,  1,  1, 28]) target is tensor(39)\n",
            "when input is tensor([80,  1,  1, 28, 39]) target is tensor(42)\n",
            "when input is tensor([80,  1,  1, 28, 39, 42]) target is tensor(39)\n",
            "when input is tensor([80,  1,  1, 28, 39, 42, 39]) target is tensor(44)\n",
            "when input is tensor([80,  1,  1, 28, 39, 42, 39, 44]) target is tensor(32)\n"
          ]
        }
      ]
    },
    {
      "cell_type": "code",
      "source": [
        "class BigramLanguageModel(nn.Module):\n",
        "    def __init__(self, vocab_size):\n",
        "        super().__init__()\n",
        "        self.token_embedding_table = nn.Embedding(vocab_size, vocab_size)\n",
        "\n",
        "    def forward(self, index, targets=None):\n",
        "        logits = self.token_embedding_table(index)\n",
        "\n",
        "\n",
        "        if targets is None:\n",
        "            loss = None\n",
        "        else:\n",
        "            B, T, C = logits.shape\n",
        "            logits = logits.view(B*T, C)\n",
        "            targets = targets.view(B*T)\n",
        "            loss = F.cross_entropy(logits, targets) # as it expects it as B*C*T\n",
        "\n",
        "        return logits, loss\n",
        "\n",
        "    def generate(self, index, max_new_tokens):\n",
        "        # index is (B, T) array of indices in the current context\n",
        "        for _ in range(max_new_tokens):\n",
        "            # get the predictions\n",
        "            logits, loss = self.forward(index)\n",
        "            # focus only on the last time step\n",
        "            logits = logits[:, -1, :] # becomes (B, C)\n",
        "            # apply softmax to get probabilities\n",
        "            probs = F.softmax(logits, dim=-1) # (B, C)\n",
        "            # sample from the distribution\n",
        "            index_next = torch.multinomial(probs, num_samples=1) # (B, 1)\n",
        "            # append sampled index to the running sequence\n",
        "            index = torch.cat((index, index_next), dim=1) # (B, T+1)\n",
        "        return index\n",
        "\n"
      ],
      "metadata": {
        "id": "am18btRRWUVa"
      },
      "execution_count": 33,
      "outputs": []
    },
    {
      "cell_type": "code",
      "source": [
        "a = torch.rand(2,3,5)\n",
        "print(a.shape)\n",
        "x,y,z = a.shape\n",
        "a = a.view(x,y,z)\n",
        "print(a.shape)"
      ],
      "metadata": {
        "colab": {
          "base_uri": "https://localhost:8080/"
        },
        "id": "0GOhkGzgwXKq",
        "outputId": "9a9a2944-9b3c-4122-c3fb-2a51eec6b12c"
      },
      "execution_count": 34,
      "outputs": [
        {
          "output_type": "stream",
          "name": "stdout",
          "text": [
            "torch.Size([2, 3, 5])\n",
            "torch.Size([2, 3, 5])\n"
          ]
        }
      ]
    },
    {
      "cell_type": "code",
      "source": [
        "model = BigramLanguageModel(vocab_size)\n",
        "\n",
        "context = torch.zeros((1,1), dtype=torch.long)\n",
        "generated_chars = decode(model.generate(context, max_new_tokens=500)[0].tolist())\n",
        "print(generated_chars)\n"
      ],
      "metadata": {
        "colab": {
          "base_uri": "https://localhost:8080/"
        },
        "id": "XjwqKZlCwXj1",
        "outputId": "a9e7491a-0179-41ce-8f22-5cf435d20e0a"
      },
      "execution_count": 35,
      "outputs": [
        {
          "output_type": "stream",
          "name": "stdout",
          "text": [
            "['\\n', 'n', 'O', ' ', 'i', 'I', 'x', '3', 'k', '(', 'Q', 'U', 'Z', 'U', 'H', 'I', '\\n', '9', 'U', 'h', 'L', 'm', 'd', ',', 'f', 'b', 'I', 'o', ')', 'k', '(', 'W', 'd', 'z', '!', '?', '*', \"'\", 't', '&', '&', 'M', '8', ';', 'S', 'd', ':', 'g', '6', '-', 'W', 'b', '0', '3', 'Q', 'z', 'f', 'j', 'Y', '\\n', 'O', '5', 'W', '.', 'L', 'I', '\\ufeff', 'F', 'e', '!', 'W', 'U', 't', 'u', 'H', 'F', '4', 'd', '6', 'X', '*', 'w', 'd', 'O', 'Q', 'Q', '-', 'S', 'R', 'G', ')', 'e', 'J', '_', 'e', 'Y', 'C', '.', 'T', '_', 'u', '-', ' ', 'M', '\\ufeff', 'a', '.', ';', '!', 't', 'u', '7', 'd', '&', 'p', 'p', '4', 'I', '1', '1', 'I', 'k', 'Y', 'W', 'p', 'k', 'x', 'k', ' ', ' ', 'c', '(', 'P', '&', '8', 'W', 'X', ' ', '.', 'Y', 'A', 'B', '9', '8', '7', 't', 'D', 'M', 'd', ':', 'v', 'P', 'I', 'o', 'm', 'z', '&', 'V', 'C', '[', 'a', 'O', 'P', 's', 'O', 'e', 'J', '\\n', '9', ',', ',', 'V', 'i', '*', 'P', 'P', 's', 'c', 'y', 'r', '7', 'R', 'L', '(', '\"', '\\n', ';', 'w', 'z', 'X', 'B', 'V', 's', 'K', 'Y', 'c', 'J', '8', 'A', ';', \"'\", 'L', 'N', 'Z', '?', 'y', ')', '_', 'f', 'J', '.', '8', 'z', 's', '0', '2', '6', '0', 'P', 's', 'v', 'C', 'D', 'R', 'X', 'N', '(', 'u', 'A', 'E', 'b', '&', 'f', 'o', ']', ']', 'd', ']', ']', 'U', '&', 'n', 'e', '8', '6', '6', 'f', 'b', ',', 'f', 'o', 'L', 'r', '4', 't', 'D', 'r', 'G', 'n', 'P', 'a', '3', 'x', '0', '2', 'S', 'G', 'X', 'e', 'J', 'Q', 'V', ',', 'T', '!', 'I', 'H', '3', 'J', '[', 'l', '\\n', 'm', 'A', 'Z', 'd', 'i', \"'\", ']', '.', 'T', 'i', ' ', '\\ufeff', 'J', 'e', 'l', ']', ']', 'N', '4', 'A', 'o', 'G', 'e', 'X', 'H', '[', 'E', ' ', '3', '7', 'Y', 'A', ',', '1', 't', 'h', 'a', 'X', 'P', 's', 'S', ']', 'U', 'p', 'M', 'p', 'J', 'D', 'V', ',', '3', 'B', '[', '(', 'g', 'N', \"'\", '5', '4', '0', 'h', ')', 'c', '-', 'h', 'g', 'O', '6', 'c', ' ', '.', 'J', 'e', 'W', '8', 'A', 'G', 'l', 'f', 'h', 'R', 'X', 'V', 'D', 'n', ')', 'K', '[', 'u', 'X', ')', 'J', 'i', '[', ':', 'p', 'z', '4', '0', '.', 'L', ' ', ')', 'x', 'S', ' ', 'M', 'c', 'I', 'n', 'c', 'l', 'y', 'h', 'v', '8', '_', '\\n', 'G', 'z', 'U', 'b', 'B', 'C', 'D', 'z', 'y', 'E', 'm', 'p', 'W', 'f', 'f', 'x', '8', 'B', 'l', 'U', 'H', ':', 'a', 'F', 'g', 'O', '1', 'L', 'i', ')', '\\ufeff', 'k', 'j', '9', 'k', ',', '_', 'f', 'Q', '0', 'x', 'g', '8', '(', 'q', 'R', 'U', '7', '0', '2', 'i', 'A', 'U', 'f', 'o', 'o', 'E', '-', 'u', 'K', 'H', '&', '\\ufeff', 'E', 'k', 'O', 'e', '4', 'I', '9', ')', 'x', 'a', ',', 'N', 'P', 'c', '8', '0', '[', 'p', 'B', 'Y', 't', 'R', 'N', 'l', 'y', 'U', 'p', 'U', 'y', '3', 'W', 'w', 'Y', 'A', '9', 'V', ',', \"'\"]\n"
          ]
        }
      ]
    },
    {
      "cell_type": "code",
      "source": [
        "# create a PyTorch optimizer\n",
        "optimizer = torch.optim.AdamW(model.parameters(), lr=learning_rate)\n",
        "\n",
        "for iter in range(max_iters):\n",
        "    if iter % eval_iters == 0:\n",
        "        losses = estimate_loss()\n",
        "        print(f\"step: {iter}, train loss: {losses['train']:.3f}, val loss: {losses['val']:.3f}\")\n",
        "\n",
        "    # sample a batch of data\n",
        "    xb, yb = get_batch('train')\n",
        "\n",
        "    # evaluate the loss\n",
        "    logits, loss = model.forward(xb, yb)\n",
        "    optimizer.zero_grad(set_to_none=True)\n",
        "    loss.backward()\n",
        "    optimizer.step()\n",
        "print(loss.item())"
      ],
      "metadata": {
        "colab": {
          "base_uri": "https://localhost:8080/"
        },
        "id": "z0MyVyP6x1Qy",
        "outputId": "eb10afdc-92ad-40d7-f582-3a1cf35e89f2"
      },
      "execution_count": 46,
      "outputs": [
        {
          "output_type": "stream",
          "name": "stdout",
          "text": [
            "step: 0, train loss: 3.877, val loss: 3.872\n",
            "step: 250, train loss: 3.849, val loss: 3.834\n",
            "step: 500, train loss: 3.760, val loss: 3.778\n",
            "step: 750, train loss: 3.716, val loss: 3.755\n",
            "3.544039011001587\n"
          ]
        }
      ]
    },
    {
      "cell_type": "code",
      "source": [
        "@torch.no_grad()\n",
        "def estimate_loss():\n",
        "    out = {}\n",
        "    model.eval()\n",
        "    for split in ['train', 'val']:\n",
        "        losses = torch.zeros(eval_iters)\n",
        "        for k in range(eval_iters):\n",
        "            X, Y = get_batch(split)\n",
        "            logits, loss = model(X, Y)\n",
        "            losses[k] = loss.item()\n",
        "        out[split] = losses.mean()\n",
        "    model.train()\n",
        "    return out"
      ],
      "metadata": {
        "id": "93pBljVLzOrD"
      },
      "execution_count": 43,
      "outputs": []
    },
    {
      "cell_type": "code",
      "source": [],
      "metadata": {
        "id": "mmJYrOzty3dU"
      },
      "execution_count": null,
      "outputs": []
    }
  ]
}